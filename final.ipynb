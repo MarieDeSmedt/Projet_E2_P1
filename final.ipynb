{
 "cells": [
  {
   "cell_type": "code",
   "execution_count": 31,
   "metadata": {},
   "outputs": [],
   "source": [
    "from sklearn.datasets import fetch_openml\n",
    "from sklearn.model_selection import train_test_split\n",
    "from sklearn.impute import SimpleImputer\n",
    "from sklearn.preprocessing import OneHotEncoder, MinMaxScaler\n",
    "from sklearn.pipeline import Pipeline\n",
    "from sklearn.ensemble import RandomForestRegressor\n",
    "from sklearn.metrics import mean_absolute_error,r2_score,mean_squared_error\n",
    "from sklearn.compose import ColumnTransformer\n",
    "from sklearn.model_selection import GridSearchCV\n",
    "from sklearn.preprocessing import LabelEncoder\n",
    "\n",
    "import pickle\n",
    "import pandas as pd\n",
    "import numpy as np\n",
    "import matplotlib.pyplot as plt\n",
    "\n",
    "import pandas as pd\n",
    "import pycaret\n",
    "from pycaret.regression import *"
   ]
  },
  {
   "cell_type": "code",
   "execution_count": 32,
   "metadata": {},
   "outputs": [],
   "source": [
    "# DOWNLOAD DATA\n",
    "df = pd.read_csv('AmesHousing.csv')\n",
    "data = df.drop(['PID'], axis=1)\n"
   ]
  },
  {
   "cell_type": "code",
   "execution_count": 33,
   "metadata": {},
   "outputs": [],
   "source": [
    "data = data.rename(columns={\"MS SubClass\": \"MSSubClass\", \"MS Zoning\": \"MSZoning\",'Lot Frontage':'LotFrontage', 'Lot Area':'LotArea',\n",
    "       'Sale Condition':'SaleCondition','Yr Sold':'YrSold','YearBuilt': 'YearBuilt', 'Gr Liv Area': 'GrLivArea', 'Garage Area':'GarageArea',\n",
    "       'Year Built':'YearBuilt','Pool Area':'PoolArea','Year Remod/Add':'YearRemodAdd','Garage Cars':'GarageCars','Total Bsmt SF':\"TotalBsmtSF\",\n",
    "       \"Full Bath\":\"FullBath\",\"Mas Vnr Area\":\"MasVnrArea\",\"1st Flr SF\":\"FstFlrSF\",\"Garage Yr Blt\":\"GarageYrBlt\",\"TotRms AbvGrd\":\"TotRmsAbvGrd\",\n",
    "       \"Overall Qual\":\"OverallQual\",\"Screen Porch\":\"ScreenPorch\",\"Open Porch SF\":\"OpenPorchSF\",\"Enclosed Porch\":\"EnclosedPorch\",\n",
    "       \"Wood Deck SF\":\"WoodDeckSF\",\"2nd Flr SF\":\"SndFlrSF\",\"Bedroom AbvGr\":\"BedroomAbvGr\",\"Kitchen AbvGr\":\"KitchenAbvGr\",\n",
    "})"
   ]
  },
  {
   "cell_type": "markdown",
   "metadata": {},
   "source": [
    "Data cleaning"
   ]
  },
  {
   "cell_type": "code",
   "execution_count": 34,
   "metadata": {},
   "outputs": [],
   "source": [
    "data =data.fillna(0)\n",
    "\n",
    "# create dummies\n",
    "data['Fence'] = data['Fence'].notna()\n",
    "data['Pool'] = data['PoolArea'] > 0\n",
    "\n",
    "\n",
    "# Delete all data with MSZoning = commercial, agriculture and industrial as these are not residential units\n",
    "data = data[(data.MSZoning != 'C (all)') & (data.MSZoning != 'I (all)') & (data.MSZoning != 'A (agr)')]\n",
    "\n",
    "# Delete abnormal sales\n",
    "data = data[(data.SaleCondition != 'Abnorml')] \n",
    "data = data[(data.SaleCondition != 'Family')] "
   ]
  },
  {
   "cell_type": "markdown",
   "metadata": {},
   "source": [
    "Selection des features"
   ]
  },
  {
   "cell_type": "code",
   "execution_count": 35,
   "metadata": {},
   "outputs": [],
   "source": [
    "columns_to_keep=[\"YearBuilt\",\"YearRemodAdd\",\"Pool\",\"Fence\",\"ScreenPorch\",\"OpenPorchSF\",\"EnclosedPorch\",\n",
    "\"WoodDeckSF\",\"GarageArea\",\"LotArea\",\"TotalBsmtSF\",\"FstFlrSF\",\"SndFlrSF\",\"GrLivArea\",\"FullBath\",\"BedroomAbvGr\",\n",
    "\"KitchenAbvGr\",\"TotRmsAbvGrd\",\"Fireplaces\",\"GarageCars\",\"LotFrontage\",'SalePrice']"
   ]
  },
  {
   "cell_type": "code",
   "execution_count": 36,
   "metadata": {},
   "outputs": [],
   "source": [
    "# Select Features\n",
    "data = data[columns_to_keep]\n",
    "\n",
    "X = data.drop('SalePrice', axis=1)\n",
    "Y = data[['SalePrice']]"
   ]
  },
  {
   "cell_type": "markdown",
   "metadata": {},
   "source": [
    "Preprocessing"
   ]
  },
  {
   "cell_type": "code",
   "execution_count": 37,
   "metadata": {},
   "outputs": [],
   "source": [
    "X_train, X_valid, y_train, y_valid = train_test_split(X, Y, test_size=.3, random_state=1121218)"
   ]
  },
  {
   "cell_type": "code",
   "execution_count": 38,
   "metadata": {},
   "outputs": [],
   "source": [
    "numerical_features = X_train.select_dtypes(include='number').columns.tolist()\n",
    "categorical_features = X_train.select_dtypes(exclude='number').columns.tolist()"
   ]
  },
  {
   "cell_type": "code",
   "execution_count": 39,
   "metadata": {},
   "outputs": [],
   "source": [
    "imputer = SimpleImputer(strategy='mean', missing_values=np.nan)\n",
    "imputer = imputer.fit(data[numerical_features])\n",
    "data[numerical_features] = imputer.transform(data[numerical_features])"
   ]
  },
  {
   "cell_type": "code",
   "execution_count": 40,
   "metadata": {},
   "outputs": [],
   "source": [
    "sclaer = MinMaxScaler()\n",
    "sclaer = sclaer.fit(data[numerical_features])\n",
    "data[numerical_features] = sclaer.transform(data[numerical_features])"
   ]
  },
  {
   "cell_type": "code",
   "execution_count": 41,
   "metadata": {},
   "outputs": [],
   "source": [
    "labelencoder = LabelEncoder()\n",
    "data['Fence'] = labelencoder.fit_transform(data['Fence'])\n",
    "data['Pool'] = labelencoder.fit_transform(data['Pool'])"
   ]
  },
  {
   "cell_type": "markdown",
   "metadata": {},
   "source": [
    "Le modele"
   ]
  },
  {
   "cell_type": "code",
   "execution_count": null,
   "metadata": {},
   "outputs": [],
   "source": [
    "reg = setup(data = data, target = 'SalePrice')"
   ]
  },
  {
   "cell_type": "code",
   "execution_count": null,
   "metadata": {},
   "outputs": [],
   "source": [
    "rfr = create_model('rf')"
   ]
  },
  {
   "cell_type": "code",
   "execution_count": null,
   "metadata": {},
   "outputs": [],
   "source": [
    "tuned_rfr = tune_model(rfr,n_iter = 50)"
   ]
  },
  {
   "cell_type": "code",
   "execution_count": 53,
   "metadata": {},
   "outputs": [
    {
     "name": "stdout",
     "output_type": "stream",
     "text": [
      "RandomForestRegressor(bootstrap=False, ccp_alpha=0.0, criterion='mse',\n",
      "                      max_depth=10, max_features='sqrt', max_leaf_nodes=None,\n",
      "                      max_samples=None, min_impurity_decrease=0.0005,\n",
      "                      min_impurity_split=None, min_samples_leaf=2,\n",
      "                      min_samples_split=2, min_weight_fraction_leaf=0.0,\n",
      "                      n_estimators=180, n_jobs=-1, oob_score=False,\n",
      "                      random_state=7763, verbose=0, warm_start=False)\n"
     ]
    }
   ],
   "source": [
    "print(tuned_rfr)"
   ]
  },
  {
   "cell_type": "code",
   "execution_count": 54,
   "metadata": {},
   "outputs": [],
   "source": [
    "_ = tuned_rfr.fit(X_train, y_train)"
   ]
  },
  {
   "cell_type": "code",
   "execution_count": 55,
   "metadata": {},
   "outputs": [],
   "source": [
    "filename = 'last_model.sav'\n",
    "pickle.dump(tuned_rfr, open(filename, 'wb'))"
   ]
  },
  {
   "cell_type": "markdown",
   "metadata": {},
   "source": [
    "Evaluation du modele"
   ]
  },
  {
   "cell_type": "code",
   "execution_count": 56,
   "metadata": {},
   "outputs": [],
   "source": [
    "def evaluate_Regression_models(model,x_test,y_test):\n",
    "  prediction = model.predict(x_test)\n",
    "  print(\"Mean Absolute Error:\",\n",
    "                       mean_absolute_error(y_test,prediction))\n",
    "  print(\"Mean Squared Error : \", \n",
    "                       mean_squared_error(y_test,prediction))\n",
    "  print(\"Root Mean Squared Error : \",\n",
    "                     np.sqrt(mean_squared_error(y_test,prediction)))\n",
    "  print(\"R2 Score : \",r2_score(y_test,prediction))"
   ]
  },
  {
   "cell_type": "code",
   "execution_count": 57,
   "metadata": {},
   "outputs": [],
   "source": [
    "my_model = pickle.load(open(\"last_model.sav\", 'rb'))"
   ]
  },
  {
   "cell_type": "code",
   "execution_count": 58,
   "metadata": {},
   "outputs": [],
   "source": [
    "predict_on_Xtrain = my_model.predict(X_train)\n",
    "predict_on_Xvalid = my_model.predict(X_valid)"
   ]
  },
  {
   "cell_type": "code",
   "execution_count": 59,
   "metadata": {},
   "outputs": [
    {
     "name": "stdout",
     "output_type": "stream",
     "text": [
      "Mean Absolute Error: 18069.992218583837\n",
      "Mean Squared Error :  764508084.6178582\n",
      "Root Mean Squared Error :  27649.7393227831\n",
      "R2 Score :  0.8827634500145207\n"
     ]
    }
   ],
   "source": [
    "evaluate_Regression_models(my_model,X_valid,y_valid)"
   ]
  }
 ],
 "metadata": {
  "interpreter": {
   "hash": "916dbcbb3f70747c44a77c7bcd40155683ae19c65e1c03b4aa3499c5328201f1"
  },
  "kernelspec": {
   "display_name": "Python 3.8.10 64-bit",
   "language": "python",
   "name": "python3"
  },
  "language_info": {
   "codemirror_mode": {
    "name": "ipython",
    "version": 3
   },
   "file_extension": ".py",
   "mimetype": "text/x-python",
   "name": "python",
   "nbconvert_exporter": "python",
   "pygments_lexer": "ipython3",
   "version": "3.8.10"
  },
  "orig_nbformat": 4
 },
 "nbformat": 4,
 "nbformat_minor": 2
}
