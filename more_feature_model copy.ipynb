{
 "cells": [
  {
   "cell_type": "code",
   "execution_count": 1,
   "metadata": {},
   "outputs": [],
   "source": [
    "from sklearn.datasets import fetch_openml\n",
    "from sklearn.model_selection import train_test_split\n",
    "from sklearn.impute import SimpleImputer\n",
    "from sklearn.preprocessing import OneHotEncoder, MinMaxScaler\n",
    "from sklearn.pipeline import Pipeline\n",
    "from sklearn.ensemble import RandomForestRegressor\n",
    "from sklearn.metrics import mean_absolute_error,r2_score\n",
    "\n",
    "import pickle\n",
    "import pandas as pd\n",
    "import numpy as np\n",
    "import matplotlib.pyplot as plt"
   ]
  },
  {
   "cell_type": "code",
   "execution_count": 2,
   "metadata": {},
   "outputs": [],
   "source": [
    "df = pd.read_csv('AmesHousing.csv')\n",
    "data = df.drop(['PID'], axis=1)"
   ]
  },
  {
   "cell_type": "code",
   "execution_count": 3,
   "metadata": {},
   "outputs": [],
   "source": [
    "data = data.rename(columns={\"MS SubClass\": \"MSSubClass\", \"MS Zoning\": \"MSZoning\",'Lot Frontage':'LotFrontage', 'Lot Area':'LotArea',\n",
    "       'Sale Condition':'SaleCondition','Yr Sold':'YrSold','YearBuilt': 'YearBuilt', 'Gr Liv Area': 'GrLivArea', 'Garage Area':'GarageArea',\n",
    "       'Year Built':'YearBuilt','Pool Area':'PoolArea','Year Remod/Add':'YearRemodAdd'\n",
    "})"
   ]
  },
  {
   "cell_type": "code",
   "execution_count": 4,
   "metadata": {},
   "outputs": [],
   "source": [
    "liste_to_numeric = ['YrSold', 'YearBuilt', 'GrLivArea', 'LotFrontage', 'LotArea','GarageArea']\n",
    "data[liste_to_numeric] = data[liste_to_numeric].apply(pd.to_numeric)"
   ]
  },
  {
   "cell_type": "code",
   "execution_count": 5,
   "metadata": {},
   "outputs": [],
   "source": [
    "data = data*1"
   ]
  },
  {
   "cell_type": "markdown",
   "metadata": {},
   "source": [
    "Data cleaning"
   ]
  },
  {
   "cell_type": "code",
   "execution_count": 6,
   "metadata": {},
   "outputs": [],
   "source": [
    "# create dumies\n",
    "data['Fence'] = data['Fence'].notna()\n",
    "data['Pool'] = data['PoolArea'] > 0\n",
    "\n",
    "# create the new variable 'age'\n",
    "data['Age'] = data.apply(lambda x: x['YrSold']-x['YearBuilt'] if (x['YearBuilt']<x['YearRemodAdd']) \n",
    "                                                           else (x['YrSold']-x['YearRemodAdd']), axis=1)\n",
    "\n",
    "# Delete all data with MSZoning = commercial, agriculture and industrial as these are not residential units\n",
    "data = data[(data.MSZoning != 'C (all)') & (data.MSZoning != 'I (all)') & (data.MSZoning != 'A (agr)')]\n",
    "\n",
    "# Delete abnormal sales\n",
    "data = data[(data.SaleCondition != 'Abnorml')] \n",
    "data = data[(data.SaleCondition != 'Family')] \n"
   ]
  },
  {
   "cell_type": "code",
   "execution_count": 7,
   "metadata": {},
   "outputs": [],
   "source": [
    "# Select Features\n",
    "X = data[['Age','GrLivArea', 'LotFrontage', 'LotArea', 'GarageArea', 'Fence', 'Pool']]\n",
    "Y = data[['SalePrice']]"
   ]
  },
  {
   "cell_type": "code",
   "execution_count": 8,
   "metadata": {},
   "outputs": [],
   "source": [
    "X_train, X_valid, y_train, y_valid = train_test_split(X, Y, test_size=.3, random_state=1121218)"
   ]
  },
  {
   "cell_type": "markdown",
   "metadata": {},
   "source": [
    "Evaluation du modele"
   ]
  },
  {
   "cell_type": "code",
   "execution_count": 9,
   "metadata": {},
   "outputs": [],
   "source": [
    "first_model = pickle.load(open(\"finalized_model.sav\", 'rb'))"
   ]
  },
  {
   "cell_type": "code",
   "execution_count": 10,
   "metadata": {},
   "outputs": [],
   "source": [
    "predict_on_Xtrain = first_model.predict(X_train)\n",
    "predict_on_Xvalid = first_model.predict(X_valid)"
   ]
  },
  {
   "cell_type": "code",
   "execution_count": 11,
   "metadata": {},
   "outputs": [],
   "source": [
    "r2_train = r2_score(y_train,predict_on_Xtrain)\n",
    "r2_valid = r2_score(y_valid,predict_on_Xvalid)\n",
    "mae_train = mean_absolute_error(y_train,predict_on_Xtrain)\n",
    "mae_valid = mean_absolute_error(y_valid,predict_on_Xvalid)"
   ]
  },
  {
   "cell_type": "code",
   "execution_count": 12,
   "metadata": {},
   "outputs": [
    {
     "name": "stdout",
     "output_type": "stream",
     "text": [
      "SUR LES DONNEES D'ENTRAINEMENT:\n",
      "Le modèle prédit une valeur exacte dans 86.56 % des cas (R2 score)\n",
      "et ce avec une erreure moyenne de 17486$, ce qui n'est pas un delta acceptable sur le prix d'un bien immobilier (MAE)\n",
      "SUR LES DONNEES DE VALIDATION:\n",
      "Le modèle prédit une valeur exacte dans 86.47 % des cas (R2 score)\n",
      "et ce avec une erreure moyenne de 18291$, ce qui n'est pas acceptable (MAE)\n",
      "CONCLUSION:\n",
      "L'overfitting du modèle a été nettement réduit.\n",
      "Sa capacité de prédiction a été améliorée.\n",
      "Mais l'erreur moyenne reste conséquente et difficilement admissible sur l'estimation du prix d'un bien immobilier.\n"
     ]
    }
   ],
   "source": [
    "print(\"SUR LES DONNEES D'ENTRAINEMENT:\")\n",
    "print(\"Le modèle prédit une valeur exacte dans {} % des cas (R2 score)\".format(round(r2_train*100,2)))\n",
    "print(\"et ce avec une erreure moyenne de {}$, ce qui n'est pas un delta acceptable sur le prix d'un bien immobilier (MAE)\".format(round(mae_train)))\n",
    "\n",
    "print(\"SUR LES DONNEES DE VALIDATION:\")\n",
    "print(\"Le modèle prédit une valeur exacte dans {} % des cas (R2 score)\".format(round(r2_valid*100,2)))\n",
    "print(\"et ce avec une erreure moyenne de {}$, ce qui n'est pas acceptable (MAE)\".format(round(mae_valid)))\n",
    "\n",
    "print(\"CONCLUSION:\")\n",
    "print(\"L'overfitting du modèle a été nettement réduit.\")\n",
    "print(\"Sa capacité de prédiction a été améliorée.\")\n",
    "print(\"Mais l'erreur moyenne reste conséquente et difficilement admissible sur l'estimation du prix d'un bien immobilier.\")"
   ]
  }
 ],
 "metadata": {
  "interpreter": {
   "hash": "4e9d0eb124604090f8705a9fc53d01095527a4bd15a48e54b13f02d7e1634013"
  },
  "kernelspec": {
   "display_name": "Python 3.8.6 64-bit ('env': venv)",
   "language": "python",
   "name": "python3"
  },
  "language_info": {
   "codemirror_mode": {
    "name": "ipython",
    "version": 3
   },
   "file_extension": ".py",
   "mimetype": "text/x-python",
   "name": "python",
   "nbconvert_exporter": "python",
   "pygments_lexer": "ipython3",
   "version": "3.10.1"
  },
  "orig_nbformat": 4
 },
 "nbformat": 4,
 "nbformat_minor": 2
}
