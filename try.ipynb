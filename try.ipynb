{
 "cells": [
  {
   "cell_type": "code",
   "execution_count": 1,
   "metadata": {},
   "outputs": [],
   "source": [
    "import pandas as pd\n",
    "from pandas_profiling import ProfileReport\n",
    "import numpy as np"
   ]
  },
  {
   "cell_type": "code",
   "execution_count": 2,
   "metadata": {},
   "outputs": [],
   "source": [
    "data = pd.read_csv('eda.csv')"
   ]
  },
  {
   "cell_type": "code",
   "execution_count": 3,
   "metadata": {},
   "outputs": [],
   "source": [
    "df =data.corr().abs()"
   ]
  },
  {
   "cell_type": "code",
   "execution_count": 4,
   "metadata": {},
   "outputs": [],
   "source": [
    "df =df[['SalePrice']]"
   ]
  },
  {
   "cell_type": "code",
   "execution_count": 5,
   "metadata": {},
   "outputs": [
    {
     "name": "stdout",
     "output_type": "stream",
     "text": [
      "OverallQual   SalePrice    0.790982\n",
      "YearBuilt     SalePrice    0.522897\n",
      "YearRemodAdd  SalePrice    0.507101\n",
      "TotalBsmtSF   SalePrice    0.613581\n",
      "1stFlrSF      SalePrice    0.605852\n",
      "GrLivArea     SalePrice    0.708624\n",
      "FullBath      SalePrice    0.560664\n",
      "TotRmsAbvGrd  SalePrice    0.533723\n",
      "GarageCars    SalePrice    0.640409\n",
      "GarageArea    SalePrice    0.623431\n",
      "dtype: float64\n"
     ]
    }
   ],
   "source": [
    "df1 =df[df < 1]\n",
    "df2 = df1[df1>0.5]\n",
    "df3 = df2.stack()\n",
    "print(df3)"
   ]
  }
 ],
 "metadata": {
  "interpreter": {
   "hash": "1c22349f95c0ca647088e21910b86878d64bd8959c6dc740eaf1ab1ea461efee"
  },
  "kernelspec": {
   "display_name": "Python 3.9.2 64-bit ('env': conda)",
   "language": "python",
   "name": "python3"
  },
  "language_info": {
   "codemirror_mode": {
    "name": "ipython",
    "version": 3
   },
   "file_extension": ".py",
   "mimetype": "text/x-python",
   "name": "python",
   "nbconvert_exporter": "python",
   "pygments_lexer": "ipython3",
   "version": "3.9.2"
  },
  "orig_nbformat": 4
 },
 "nbformat": 4,
 "nbformat_minor": 2
}
